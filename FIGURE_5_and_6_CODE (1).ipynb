{
 "cells": [
  {
   "cell_type": "code",
   "execution_count": 5,
   "id": "dd1c182e",
   "metadata": {},
   "outputs": [
    {
     "data": {
      "image/png": "[encoded data removed]",
      "text/plain": [
       "<Figure size 432x288 with 1 Axes>"
      ]
     },
     "metadata": {
      "needs_background": "light"
     },
     "output_type": "display_data"
    }
   ],
   "source": [
    "\n",
    "from qutip import *\n",
    "import time\n",
    "import numpy as np\n",
    "import matplotlib.pyplot as plt\n",
    "from numpy.linalg import eig\n",
    "\n",
    "\n",
    "\n",
    "\n",
    "# Constants\n",
    "delta = .2*2*np.pi\n",
    "eps0 = 1 * 2 * np.pi\n",
    "A = 2.5 * 2 * np.pi\n",
    "omega = delta\n",
    "T = 2 * np.pi / omega\n",
    "\n",
    "T1=30*delta\n",
    "#T2=60*delta\n",
    "gamma1=1/(4*30*delta)\n",
    "#gamma1prime=1/(4*10*delta)\n",
    "gamma1_1=1/(4*10**6*delta)\n",
    "#gamma2=(1/T2-2*gamma1)/2\n",
    "L1=sigmax()-1j*sigmay()\n",
    "L2=-1*sigmaz()\n",
    "#C1=np.sqrt(gamma1)*L1\n",
    "#C2=np.sqrt(gamma2)*L2\n",
    "options=qutip.Options(store_states=True)\n",
    "psi0 = basis(2,1)\n",
    "def C1(T1):\n",
    "    return (np.sqrt(1/(4*T1*delta)))*L1\n",
    "def C2(T2):\n",
    "    return (np.sqrt(1/(T2*delta)-2*gamma1)/2)*L2\n",
    "def C2_1(T3):\n",
    "    return (np.sqrt(1/(T3*delta)-2*gamma1_1)/2)*L2\n",
    "def C1_1(T4):\n",
    "    return np.sqrt(1/(4*T4*delta))*L1\n",
    "\n",
    "\n",
    "\n",
    "\n",
    "times= np.linspace(0.0, 900, 5000)\n",
    " \n",
    "\n",
    "F0list=[.01,0.1,0.2]\n",
    "\n",
    "rhoee_0=[]\n",
    "rhoee_1=[]\n",
    "rhoee_2=[]\n",
    "\n",
    "Fin_result=[]\n",
    "\n",
    "for F0 in F0list:\n",
    "    H0=(1/2)*sigmaz()\n",
    "    H1=sigmax()\n",
    "    def H1_coeff(times,args):\n",
    "        return F0*np.sin(times)\n",
    "    H = [H0,[H1,H1_coeff]]\n",
    "    \n",
    "    result_0 = mesolve(H, psi0.proj(), times,[C1(30),C2(15)],[],options=options)\n",
    "    result_1 = mesolve(H, psi0.proj(), times,[C1(30),C2(30)],[],options=options)\n",
    "    result_2 = mesolve(H, psi0.proj(), times,[C1_1(10**6),C2_1(30)],[],options=options)   \n",
    "    \n",
    "\n",
    "    rhoee_0.append(np.array([state.full()[0,0].real for state in result_0.states]))\n",
    "    rhoee_1.append(np.array([state.full()[0,0].real for state in result_1.states]))\n",
    "    rhoee_2.append(np.array([state.full()[0,0].real for state in result_2.states]))\n",
    "fig, ax = plt.subplots() \n",
    "ax.set_title(r'Occupation Probability vs Time for $F_{0}=.2 \\Delta$')\n",
    "ax.set_xlim(850,900) #set from 0,900 to reproduce figure 5\n",
    "ax.set_ylim(0,1)\n",
    "ax.plot(times,rhoee_0[2],'turquoise',label=r'$T_{1} =  \\frac{30 \\hbar}{\\Delta}; T_{2} = \\frac{15 \\hbar}{\\Delta} $') \n",
    "ax.plot(times,rhoee_1[2], 'blue',label=r'$T_{1} =  \\frac{30 \\hbar}{\\Delta}; T_{2} = \\frac{30 \\hbar}{\\Delta} $')\n",
    "ax.plot(times,rhoee_2[2], 'magenta',label=r' $T_{1}=\\frac{ 10^{6} \\hbar}{\\Delta}; T_{2} =\\frac{30 \\hbar}{\\Delta}$')\n",
    "ax.set_xlabel(r'$\\frac{t \\hbar}{\\Delta}$') \n",
    "ax.set_ylabel(r'$\\rho_{ee}$') \n",
    "ax.legend()  \n",
    "plt.show() \n",
    "\n"
   ]
  },
  {
   "cell_type": "code",
   "execution_count": null,
   "id": "cd1bc39c",
   "metadata": {},
   "outputs": [],
   "source": []
  }
 ],
 "metadata": {
  "kernelspec": {
   "display_name": "Python 3 (ipykernel)",
   "language": "python",
   "name": "python3"
  },
  "language_info": {
   "codemirror_mode": {
    "name": "ipython",
    "version": 3
   },
   "file_extension": ".py",
   "mimetype": "text/x-python",
   "name": "python",
   "nbconvert_exporter": "python",
   "pygments_lexer": "ipython3",
   "version": "3.9.12"
  }
 },
 "nbformat": 4,
 "nbformat_minor": 5
}
