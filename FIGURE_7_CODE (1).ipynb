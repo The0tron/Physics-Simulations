{
 "cells": [
  {
   "cell_type": "code",
   "execution_count": 12,
   "id": "b07455fb",
   "metadata": {},
   "outputs": [
    {
     "name": "stdout",
     "output_type": "stream",
     "text": [
      "[0.0026713689108029933, 0.0534903601839287, 0.17202981958217722, 0.3507529474190733, 0.5506372181178248, 0.7204348062325997, 0.8361256137998755, 0.9053989780311807, 0.9448823391655036, 0.9673179221896543, 0.9802978788454522]\n"
     ]
    },
    {
     "data": {
      "image/png": "[encoded data removed]",
      "text/plain": [
       "<Figure size 432x288 with 1 Axes>"
      ]
     },
     "metadata": {
      "needs_background": "light"
     },
     "output_type": "display_data"
    }
   ],
   "source": [
    "\n",
    "from qutip import *\n",
    "import time\n",
    "import numpy as np\n",
    "import matplotlib.pyplot as plt\n",
    "from numpy.linalg import eig\n",
    "\n",
    "\n",
    "\n",
    "\n",
    "# Constants\n",
    "delta =1 \n",
    "eps0 = 1 * 2 * np.pi\n",
    "A = 2.5 * 2 * np.pi\n",
    "omega = delta\n",
    "T = 2 * np.pi / omega\n",
    "\n",
    "\n",
    "T1=30/delta #Relaxation time; Adjust this variable to obtain 7.1,7.2,ect\n",
    "T2=15/delta  #Coherence time; Adjust this variable to obtain 7.1,7.2,ect\n",
    "\n",
    "\n",
    "\n",
    "gamma1=1/(4*T1)\n",
    "gamma2=(1/T2-2*gamma1)/2\n",
    "L1=sigmax()-1j*sigmay()\n",
    "L2=-1*sigmaz()\n",
    "\n",
    "#Collapse Operators\n",
    "C1=np.sqrt(gamma1)*L1\n",
    "C2=np.sqrt(gamma2)*L2\n",
    "#Psi,groud state\n",
    "psi0 = basis(2,1)\n",
    "\n",
    "Nt=500\n",
    "dt=T/Nt\n",
    "\n",
    "\n",
    "\n",
    "n_0= 190*Nt\n",
    "options=qutip.Options(store_states=True)\n",
    "\n",
    "\n",
    "times= np.linspace(0, 900, 200*Nt)\n",
    "\n",
    "\n",
    "t=200/4000\n",
    "\n",
    "\n",
    "\n",
    "tlist_period=np.linspace(0,T,Nt)\n",
    "\n",
    "rhoee=[]\n",
    "\n",
    "\n",
    "A_list= np.linspace(0.01,1,11)\n",
    "Freq_list=[]\n",
    "FF_1=[]  \n",
    "for n,F0 in enumerate(A_list):\n",
    "    H0=(delta/2)*sigmaz()\n",
    "    H1=F0*sigmax()\n",
    "    def H1_tempcoeff(times, args):\n",
    "        return np.sin(omega*times)\n",
    "    H_tmp=[H0,[H1,H1_tempcoeff]]\n",
    "    f_modes0, f_energies = floquet_modes(H_tmp, T)\n",
    "    fmodes_table=floquet_modes_table(f_modes0,f_energies,tlist_period,H_tmp,T)\n",
    "    result= mesolve(H_tmp, psi0.proj(), times,[C1,C2],[],options=options) #Modes\n",
    "    f_mat_list=[] #floquet state lis\n",
    "    Freq_list.append(A_list[n])\n",
    "    for i,t in enumerate(times[n_0:n_0+Nt]):  #index 'i' and output 't' \n",
    "        f_modes_t = floquet_modes_t_lookup(fmodes_table, t, T) #function allows user to loook up floquet modes, \n",
    "        rho=result.states[n_0+i] #\n",
    "        ee,ev=rho.eigenstates() #Assigning values\n",
    "        f_mat=np.zeros((2,2)) # 2x2 matrix of 0s\n",
    "        f_mat[0,0]=abs(ev[0].overlap(f_modes_t[0]))**2 #ask what this is for/what it means\n",
    "        f_mat[0,1]=abs(ev[0].overlap(f_modes_t[1]))**2\n",
    "        f_mat[1,0]=abs(ev[1].overlap(f_modes_t[0]))**2\n",
    "        f_mat[1,1]=abs(ev[1].overlap(f_modes_t[1]))**2\n",
    "        f_mat_list.append(f_mat)   \n",
    "    f_mat_array=np.array(f_mat_list)\n",
    "    Sum=np.sum(f_mat_array,axis=0)/Nt\n",
    "    floquet_fidelity=np.linalg.det(Sum)\n",
    "    FF_1.append(floquet_fidelity)\n",
    "print(FF_1)\n",
    "\n",
    "fig, ax =plt.subplots()\n",
    "ax.set_title(r\"Floquet Fidelity vs Field Strength\")\n",
    "ax.set_xlim(0,1)\n",
    "ax.set_ylim(0,1)\n",
    "ax.plot(Freq_list,FF_1, 'green',label=r' $T_{1}=\\frac{ 30 \\hbar}{\\Delta}; T_{2} =\\frac{15 \\hbar}{\\Delta}$')\n",
    "ax.set_xlabel('$F_{0}/ \\Delta$')\n",
    "ax.set_ylabel('$S_{f}$')\n",
    "   \n",
    "    \n",
    "ax.legend()    \n",
    "plt.show()\n",
    "\n",
    "    \n",
    "    "
   ]
  },
  {
   "cell_type": "code",
   "execution_count": null,
   "id": "da5fa55f",
   "metadata": {},
   "outputs": [],
   "source": []
  },
  {
   "cell_type": "code",
   "execution_count": null,
   "id": "71ea3304",
   "metadata": {},
   "outputs": [],
   "source": []
  },
  {
   "cell_type": "code",
   "execution_count": null,
   "id": "7827f0f4",
   "metadata": {},
   "outputs": [],
   "source": []
  }
 ],
 "metadata": {
  "kernelspec": {
   "display_name": "Python 3 (ipykernel)",
   "language": "python",
   "name": "python3"
  },
  "language_info": {
   "codemirror_mode": {
    "name": "ipython",
    "version": 3
   },
   "file_extension": ".py",
   "mimetype": "text/x-python",
   "name": "python",
   "nbconvert_exporter": "python",
   "pygments_lexer": "ipython3",
   "version": "3.9.12"
  }
 },
 "nbformat": 4,
 "nbformat_minor": 5
}
